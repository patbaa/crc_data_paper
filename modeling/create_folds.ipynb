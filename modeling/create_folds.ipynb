{
 "cells": [
  {
   "cell_type": "code",
   "execution_count": 1,
   "metadata": {},
   "outputs": [],
   "source": [
    "import pandas as pd"
   ]
  },
  {
   "cell_type": "code",
   "execution_count": 2,
   "metadata": {},
   "outputs": [
    {
     "data": {
      "text/plain": [
       "200"
      ]
     },
     "execution_count": 2,
     "metadata": {},
     "output_type": "execute_result"
    }
   ],
   "source": [
    "csvs = !ls ../patched_data/*csv\n",
    "len(csvs)"
   ]
  },
  {
   "cell_type": "code",
   "execution_count": 3,
   "metadata": {
    "scrolled": true
   },
   "outputs": [],
   "source": [
    "meta = pd.DataFrame()\n",
    "\n",
    "for i in csvs:\n",
    "    tmp = pd.read_csv(i)\n",
    "    tmp['slideID'] = [k.split('/')[-2] for k in tmp.fname.values]\n",
    "    meta = meta.append(tmp)"
   ]
  },
  {
   "cell_type": "code",
   "execution_count": 4,
   "metadata": {},
   "outputs": [
    {
     "data": {
      "text/plain": [
       "1554154"
      ]
     },
     "execution_count": 4,
     "metadata": {},
     "output_type": "execute_result"
    }
   ],
   "source": [
    "len(meta)"
   ]
  },
  {
   "cell_type": "code",
   "execution_count": 5,
   "metadata": {},
   "outputs": [
    {
     "name": "stdout",
     "output_type": "stream",
     "text": [
      "200\n"
     ]
    },
    {
     "data": {
      "text/plain": [
       "array(['001', '002', '003', '004', '005', '006', '007', '008', '009',\n",
       "       '010', '011', '012', '013', '014', '015', '016', '017', '018',\n",
       "       '019', '020', '021', '022', '023', '024', '025', '026', '027',\n",
       "       '028', '029', '030', '031', '032', '033', '034', '035', '036',\n",
       "       '037', '038', '039', '040', '041', '042', '043', '044', '045',\n",
       "       '046', '047', '048', '049', '050', '051', '052', '053', '054',\n",
       "       '055', '056', '057', '058', '059', '060', '061', '062', '063',\n",
       "       '064', '065', '066', '067', '068', '069', '070', '071', '072',\n",
       "       '073', '074', '075', '076', '077', '078', '079', '080', '081',\n",
       "       '082', '083', '084', '085', '086', '087', '088', '089', '090',\n",
       "       '091', '092', '093', '094', '095', '096', '097', '098', '099',\n",
       "       '100', '101', '102', '103', '104', '105', '106', '107', '108',\n",
       "       '109', '110', '111', '112', '113', '114', '115', '116', '117',\n",
       "       '118', '119', '120', '121', '122', '123', '124', '125', '126',\n",
       "       '127', '128', '129', '130', '131', '132', '133', '134', '135',\n",
       "       '136', '137', '138', '139', '140', '141', '142', '143', '144',\n",
       "       '145', '146', '147', '148', '149', '150', '151', '152', '153',\n",
       "       '154', '155', '156', '157', '158', '159', '160', '161', '162',\n",
       "       '163', '164', '165', '166', '167', '168', '169', '170', '171',\n",
       "       '172', '173', '174', '175', '176', '177', '178', '179', '180',\n",
       "       '181', '182', '183', '184', '185', '186', '187', '188', '189',\n",
       "       '190', '191', '192', '193', '194', '195', '196', '197', '198',\n",
       "       '199', '200'], dtype=object)"
      ]
     },
     "execution_count": 5,
     "metadata": {},
     "output_type": "execute_result"
    }
   ],
   "source": [
    "slides = pd.unique(meta.slideID)\n",
    "print(len(slides))\n",
    "slides"
   ]
  },
  {
   "cell_type": "code",
   "execution_count": 6,
   "metadata": {},
   "outputs": [
    {
     "data": {
      "text/plain": [
       "(40, 40, 40, 40, 40)"
      ]
     },
     "execution_count": 6,
     "metadata": {},
     "output_type": "execute_result"
    }
   ],
   "source": [
    "fold1 = list(slides[:40])\n",
    "fold2 = list(slides[40:80])\n",
    "fold3 = list(slides[80:120])\n",
    "fold4 = list(slides[120:160])\n",
    "fold5 = list(slides[160:200])\n",
    "\n",
    "len(fold1), len(fold2), len(fold3), len(fold4), len(fold5)"
   ]
  },
  {
   "cell_type": "code",
   "execution_count": 9,
   "metadata": {},
   "outputs": [],
   "source": [
    "meta[meta.slideID.isin(fold1)].to_csv('fold1_test.csv', index=False)\n",
    "meta[meta.slideID.isin(fold2)].to_csv('fold2_test.csv', index=False)\n",
    "meta[meta.slideID.isin(fold3)].to_csv('fold3_test.csv', index=False)\n",
    "meta[meta.slideID.isin(fold4)].to_csv('fold4_test.csv', index=False)\n",
    "meta[meta.slideID.isin(fold5)].to_csv('fold5_test.csv', index=False)\n",
    "\n",
    "meta[meta.slideID.isin(fold2 + fold3 + fold4 + fold5)].to_csv('fold1_train.csv', index=False)\n",
    "meta[meta.slideID.isin(fold1 + fold3 + fold4 + fold5)].to_csv('fold2_train.csv', index=False)\n",
    "meta[meta.slideID.isin(fold1 + fold2 + fold4 + fold5)].to_csv('fold3_train.csv', index=False)\n",
    "meta[meta.slideID.isin(fold1 + fold2 + fold3 + fold5)].to_csv('fold4_train.csv', index=False)\n",
    "meta[meta.slideID.isin(fold1 + fold2 + fold3 + fold4)].to_csv('fold5_train.csv', index=False)"
   ]
  },
  {
   "cell_type": "code",
   "execution_count": 10,
   "metadata": {},
   "outputs": [
    {
     "name": "stdout",
     "output_type": "stream",
     "text": [
      "309667\n",
      "252541\n",
      "340846\n",
      "377686\n",
      "273414\n"
     ]
    }
   ],
   "source": [
    "print(len(meta[meta.slideID.isin(fold1)]))\n",
    "print(len(meta[meta.slideID.isin(fold2)]))\n",
    "print(len(meta[meta.slideID.isin(fold3)]))\n",
    "print(len(meta[meta.slideID.isin(fold4)]))\n",
    "print(len(meta[meta.slideID.isin(fold5)]))"
   ]
  }
 ],
 "metadata": {
  "kernelspec": {
   "display_name": "Python 3",
   "language": "python",
   "name": "python3"
  },
  "language_info": {
   "codemirror_mode": {
    "name": "ipython",
    "version": 3
   },
   "file_extension": ".py",
   "mimetype": "text/x-python",
   "name": "python",
   "nbconvert_exporter": "python",
   "pygments_lexer": "ipython3",
   "version": "3.6.7"
  }
 },
 "nbformat": 4,
 "nbformat_minor": 2
}
